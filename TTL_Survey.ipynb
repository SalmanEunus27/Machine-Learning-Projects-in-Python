{
  "nbformat": 4,
  "nbformat_minor": 0,
  "metadata": {
    "colab": {
      "name": "TTL_Survey.ipynb",
      "provenance": [],
      "authorship_tag": "ABX9TyPOA/igcmXb8Zzdn6OfHuyh",
      "include_colab_link": true
    },
    "kernelspec": {
      "name": "python3",
      "display_name": "Python 3"
    }
  },
  "cells": [
    {
      "cell_type": "markdown",
      "metadata": {
        "id": "view-in-github",
        "colab_type": "text"
      },
      "source": [
        "<a href=\"https://colab.research.google.com/github/SalmanEunus27/Python-Codes-and-Projects/blob/master/TTL_Survey.ipynb\" target=\"_parent\"><img src=\"https://colab.research.google.com/assets/colab-badge.svg\" alt=\"Open In Colab\"/></a>"
      ]
    },
    {
      "cell_type": "code",
      "metadata": {
        "id": "Jj6uc9aQdNLL",
        "colab_type": "code",
        "colab": {}
      },
      "source": [
        "import pandas as pd\n",
        "url = 'https://raw.githubusercontent.com/SalmanEunus27/Python-Codes-and-Projects/master/Survey%20For%20Research%20Purpose.csv/Survey%20For%20Research%20Purpose.csv'\n",
        "df1 = pd.read_csv(url)"
      ],
      "execution_count": 0,
      "outputs": []
    },
    {
      "cell_type": "code",
      "metadata": {
        "colab_type": "code",
        "id": "jcQEX_3vHOUz",
        "outputId": "0e87e1e8-f54b-48f8-a66a-a61763617939",
        "colab": {
          "base_uri": "https://localhost:8080/",
          "height": 151
        }
      },
      "source": [
        "print(df1.head())"
      ],
      "execution_count": 13,
      "outputs": [
        {
          "output_type": "stream",
          "text": [
            "                     Timestamp  ... Do you think 3,000 (per month) would be a reasonable course fee for each of the above courses (individually)?\n",
            "0  2020/04/28 5:17:18 PM GMT+6  ...                                                Yes                                                           \n",
            "1  2020/04/28 6:29:21 PM GMT+6  ...                                                Yes                                                           \n",
            "2  2020/04/28 6:54:47 PM GMT+6  ...                                                 NO                                                           \n",
            "3  2020/04/28 7:30:00 PM GMT+6  ...                                                Yes                                                           \n",
            "4  2020/04/28 7:53:20 PM GMT+6  ...                                               2500                                                           \n",
            "\n",
            "[5 rows x 7 columns]\n"
          ],
          "name": "stdout"
        }
      ]
    }
  ]
}